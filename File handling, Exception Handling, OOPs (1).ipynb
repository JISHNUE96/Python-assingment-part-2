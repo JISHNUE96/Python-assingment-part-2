{
 "cells": [
  {
   "cell_type": "code",
   "execution_count": 36,
   "id": "4a50e91e-9261-4f7d-b991-642ce509be1d",
   "metadata": {},
   "outputs": [
    {
     "name": "stdout",
     "output_type": "stream",
     "text": [
      "HELLO WORLD , I AM JISHNU E KARAT , I AM WELCOMING YOU THE WORLD OF PYTHON\n"
     ]
    }
   ],
   "source": [
    "# Exercise 1\n",
    "def read_file(file_name):\n",
    "    try:\n",
    "        with open(file_name, 'r') as file:\n",
    "            contents = file.read()\n",
    "            print(contents)\n",
    "    except FileNotFoundError:\n",
    "        print(f\"File '{file_name}' not found.\")\n",
    "\n",
    "\n",
    "read_file('example.txt')\n"
   ]
  },
  {
   "cell_type": "code",
   "execution_count": 24,
   "id": "e62d9728-238f-4f42-b259-f23b0e1e1748",
   "metadata": {},
   "outputs": [
    {
     "name": "stdout",
     "output_type": "stream",
     "text": [
      "Contents copied from source.txt to destination.txt\n"
     ]
    }
   ],
   "source": [
    "# Exercise 2\n",
    "def copy_file(source_file, destination_file):\n",
    "    try:\n",
    "        with open(source_file, 'r') as src, open(destination_file, 'w') as dst:\n",
    "            dst.write(src.read())\n",
    "        print(f\"Contents copied from {source_file} to {destination_file}\")\n",
    "    except FileNotFoundError:\n",
    "        print(f\"File '{source_file}' not found.\")\n",
    "\n",
    "\n",
    "copy_file('source.txt', 'destination.txt')\n"
   ]
  },
  {
   "cell_type": "code",
   "execution_count": 38,
   "id": "b915fc7f-0d7d-4ef9-b818-cbb544422d82",
   "metadata": {},
   "outputs": [
    {
     "name": "stdout",
     "output_type": "stream",
     "text": [
      "Total number of words: 17\n"
     ]
    }
   ],
   "source": [
    "# Exercise 3\n",
    "def count_words(file_name):\n",
    "    try:\n",
    "        with open(file_name, 'r') as file:\n",
    "            contents = file.read()\n",
    "            words = contents.split()\n",
    "            print(f\"Total number of words: {len(words)}\")\n",
    "    except FileNotFoundError:\n",
    "        print(f\"File '{file_name}' not found.\")\n",
    "\n",
    "\n",
    "count_words('example.txt')\n"
   ]
  },
  {
   "cell_type": "code",
   "execution_count": 34,
   "id": "43eb5c50-8692-4f36-8185-15cca1bc9b83",
   "metadata": {},
   "outputs": [
    {
     "name": "stdout",
     "output_type": "stream",
     "text": [
      "'python' occurs 1 times in the file.\n"
     ]
    }
   ],
   "source": [
    "# Exercise 4\n",
    "def count_word_occurrences(file_name, word):\n",
    "    try:\n",
    "        with open(file_name, 'r') as file:\n",
    "            contents = file.read()\n",
    "            word_count = contents.lower().split().count(word.lower())\n",
    "            print(f\"'{word}' occurs {word_count} times in the file.\")\n",
    "    except FileNotFoundError:\n",
    "        print(f\"File '{file_name}' not found.\")\n",
    "\n",
    "count_word_occurrences('example.txt', 'python')\n"
   ]
  },
  {
   "cell_type": "code",
   "execution_count": 40,
   "id": "018ceddf-6c54-4e82-bec5-f079b14dca69",
   "metadata": {},
   "outputs": [
    {
     "name": "stdin",
     "output_type": "stream",
     "text": [
      "Enter a number:  65\n"
     ]
    },
    {
     "name": "stdout",
     "output_type": "stream",
     "text": [
      "Converted integer: 65\n"
     ]
    }
   ],
   "source": [
    "# Exercise 5\n",
    "def convert_to_integer():\n",
    "    user_input = input(\"Enter a number: \")\n",
    "    try:\n",
    "        number = int(user_input)\n",
    "        print(f\"Converted integer: {number}\")\n",
    "    except ValueError:\n",
    "        print(\"Invalid input. Please enter a valid integer.\")\n",
    "\n",
    "convert_to_integer()\n"
   ]
  },
  {
   "cell_type": "code",
   "execution_count": 6,
   "id": "350cd401-cf68-45c1-bcd3-6c0dd7ce81a6",
   "metadata": {},
   "outputs": [
    {
     "name": "stdin",
     "output_type": "stream",
     "text": [
      "Enter a list of integers separated by spaces:  5\n"
     ]
    },
    {
     "name": "stdout",
     "output_type": "stream",
     "text": [
      "All numbers are positive.\n"
     ]
    }
   ],
   "source": [
    "# Exercise 6\n",
    "def check_positive_integers():\n",
    "    user_input = input(\"Enter a list of integers separated by spaces: \")\n",
    "    try:\n",
    "        numbers = [int(x) for x in user_input.split()]\n",
    "        for number in numbers:\n",
    "            if number < 0:\n",
    "                raise ValueError(f\"Negative number found: {number}\")\n",
    "        print(\"All numbers are positive.\")\n",
    "    except ValueError as e:\n",
    "        print(e)\n",
    "\n",
    "check_positive_integers()\n"
   ]
  },
  {
   "cell_type": "code",
   "execution_count": 50,
   "id": "dee019c6-8c49-4478-ac29-cdffcd922172",
   "metadata": {},
   "outputs": [
    {
     "name": "stdin",
     "output_type": "stream",
     "text": [
      "Enter a list of integers separated by spaces:  7\n"
     ]
    },
    {
     "name": "stdout",
     "output_type": "stream",
     "text": [
      "Average: 7.0\n",
      "Program has finished running.\n"
     ]
    }
   ],
   "source": [
    "# Exercise 7\n",
    "def compute_average():\n",
    "    try:\n",
    "        user_input = input(\"Enter a list of integers separated by spaces: \")\n",
    "        numbers = [int(x) for x in user_input.split()]\n",
    "        avg = sum(numbers) / len(numbers)\n",
    "        print(f\"Average: {avg}\")\n",
    "    except ZeroDivisionError:\n",
    "        print(\"Error: Cannot compute the average of an empty list.\")\n",
    "    except ValueError:\n",
    "        print(\"Invalid input. Please enter only integers.\")\n",
    "    finally:\n",
    "        print(\"Program has finished running.\")\n",
    "\n",
    "compute_average()\n"
   ]
  },
  {
   "cell_type": "code",
   "execution_count": 8,
   "id": "9c500ada-8414-465c-b581-4b04235b572f",
   "metadata": {},
   "outputs": [
    {
     "name": "stdin",
     "output_type": "stream",
     "text": [
      "Enter the filename:  7\n",
      "Enter a string to write to the file:  2\n"
     ]
    },
    {
     "name": "stdout",
     "output_type": "stream",
     "text": [
      "String written to the file successfully.\n"
     ]
    }
   ],
   "source": [
    "# Exercise 8\n",
    "def write_to_file():\n",
    "    file_name = input(\"Enter the filename: \")\n",
    "    user_input = input(\"Enter a string to write to the file: \")\n",
    "    try:\n",
    "        with open(file_name, 'w') as file:\n",
    "            file.write(user_input)\n",
    "        print(\"String written to the file successfully.\")\n",
    "    except Exception as e:\n",
    "        print(f\"An error occurred: {e}\")\n",
    "\n",
    "write_to_file()\n"
   ]
  },
  {
   "cell_type": "code",
   "execution_count": 44,
   "id": "0999f706-e190-4a73-a6d2-d9398e666bda",
   "metadata": {},
   "outputs": [
    {
     "name": "stdout",
     "output_type": "stream",
     "text": [
      "Intro to CS True\n",
      "Art History general\n"
     ]
    }
   ],
   "source": [
    "# Exercise 9\n",
    "class Course:\n",
    "    def __init__(self, course_code, course_name, credit_hours):\n",
    "        self.course_code = course_code\n",
    "        self.course_name = course_name\n",
    "        self.credit_hours = credit_hours\n",
    "\n",
    "class CoreCourse(Course):\n",
    "    def __init__(self, course_code, course_name, credit_hours, required_for_major):\n",
    "        super().__init__(course_code, course_name, credit_hours)\n",
    "        self.required_for_major = required_for_major\n",
    "\n",
    "class ElectiveCourse(Course):\n",
    "    def __init__(self, course_code, course_name, credit_hours, elective_type):\n",
    "        super().__init__(course_code, course_name, credit_hours)\n",
    "        self.elective_type = elective_type\n",
    "\n",
    "core_course = CoreCourse(\"CS101\", \"Intro to CS\", 3, True)\n",
    "elective_course = ElectiveCourse(\"ART101\", \"Art History\", 2, \"general\")\n",
    "\n",
    "print(core_course.course_name, core_course.required_for_major)\n",
    "print(elective_course.course_name, elective_course.elective_type)\n"
   ]
  },
  {
   "cell_type": "code",
   "execution_count": 46,
   "id": "810a390d-ec40-487e-ab57-1b4e6ba12771",
   "metadata": {},
   "outputs": [],
   "source": [
    "from employee import Employee"
   ]
  },
  {
   "cell_type": "code",
   "execution_count": 48,
   "id": "fa71bb12-f178-4567-aebd-657fea29affa",
   "metadata": {},
   "outputs": [
    {
     "name": "stdout",
     "output_type": "stream",
     "text": [
      "Employee Name: John Doe\n",
      "Employee Salary: 50000\n"
     ]
    }
   ],
   "source": [
    "# Create an Employee object and display its attributes\n",
    "\n",
    "employee = Employee(\"John Doe\", 50000)\n",
    "print(\"Employee Name:\", employee.get_name())\n",
    "print(\"Employee Salary:\", employee.get_salary())"
   ]
  },
  {
   "cell_type": "code",
   "execution_count": null,
   "id": "f300b262-f348-40f9-ac74-d11813dca468",
   "metadata": {},
   "outputs": [],
   "source": []
  }
 ],
 "metadata": {
  "kernelspec": {
   "display_name": "Python 3 (ipykernel)",
   "language": "python",
   "name": "python3"
  },
  "language_info": {
   "codemirror_mode": {
    "name": "ipython",
    "version": 3
   },
   "file_extension": ".py",
   "mimetype": "text/x-python",
   "name": "python",
   "nbconvert_exporter": "python",
   "pygments_lexer": "ipython3",
   "version": "3.12.4"
  }
 },
 "nbformat": 4,
 "nbformat_minor": 5
}
