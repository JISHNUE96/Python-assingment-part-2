{
 "cells": [
  {
   "cell_type": "code",
   "execution_count": 1,
   "id": "151051b4-a345-4a04-9054-d8daf0e1cc52",
   "metadata": {},
   "outputs": [
    {
     "name": "stdout",
     "output_type": "stream",
     "text": [
      "The square root of 50 is 7.0710678118654755\n"
     ]
    }
   ],
   "source": [
    "import math\n",
    "\n",
    "def calculate_square_root(number):\n",
    "    return math.sqrt(number)\n",
    "\n",
    "\n",
    "number = 50\n",
    "print(f\"The square root of {number} is {calculate_square_root(number)}\")\n"
   ]
  },
  {
   "cell_type": "code",
   "execution_count": 2,
   "id": "be7401f8-00af-4cf3-a5a5-248c1ed3a48c",
   "metadata": {},
   "outputs": [
    {
     "name": "stdout",
     "output_type": "stream",
     "text": [
      "A random number between 1 and 10: 1\n"
     ]
    }
   ],
   "source": [
    "import random\n",
    "\n",
    "def generate_random_number():\n",
    "    return random.randint(1, 10)\n",
    "\n",
    "\n",
    "print(f\"A random number between 1 and 10: {generate_random_number()}\")\n",
    "\n"
   ]
  },
  {
   "cell_type": "code",
   "execution_count": 3,
   "id": "4a4b5a87-576a-497d-88ba-56cfb1d64883",
   "metadata": {},
   "outputs": [
    {
     "name": "stdout",
     "output_type": "stream",
     "text": [
      "The factorial of 10 is 3628800\n"
     ]
    }
   ],
   "source": [
    "import math\n",
    "\n",
    "def calculate_factorial(number):\n",
    "    return math.factorial(number)\n",
    "\n",
    "\n",
    "number = 10\n",
    "print(f\"The factorial of {number} is {calculate_factorial(number)}\")\n",
    "\n"
   ]
  },
  {
   "cell_type": "code",
   "execution_count": 8,
   "id": "4cf4f8a0-ccb4-4771-a20b-08f9e93b4903",
   "metadata": {},
   "outputs": [],
   "source": [
    "import math_operations\n"
   ]
  },
  {
   "cell_type": "code",
   "execution_count": 10,
   "id": "1dadfb4d-4024-40d0-b4b1-ee9babdd4b99",
   "metadata": {},
   "outputs": [
    {
     "name": "stdin",
     "output_type": "stream",
     "text": [
      "Enter radius of the circle:  5\n"
     ]
    },
    {
     "name": "stdout",
     "output_type": "stream",
     "text": [
      "Area of the circle: 78.53981633974483\n"
     ]
    }
   ],
   "source": [
    "# Calculate area of a circle\n",
    "\n",
    "radius = float(input(\"Enter radius of the circle: \"))\n",
    "print(f\"Area of the circle: {math_operations.area_circle(radius)}\")"
   ]
  },
  {
   "cell_type": "code",
   "execution_count": 12,
   "id": "f334da20-03eb-4ac5-85f3-3ec445ba1e61",
   "metadata": {},
   "outputs": [
    {
     "name": "stdin",
     "output_type": "stream",
     "text": [
      "Enter length of the rectangle:  10\n",
      "Enter width of the rectangle:  20\n"
     ]
    },
    {
     "name": "stdout",
     "output_type": "stream",
     "text": [
      "Area of the rectangle: 200.0\n"
     ]
    }
   ],
   "source": [
    "# Calculate area of a rectangle\n",
    "\n",
    "length = float(input(\"Enter length of the rectangle: \"))\n",
    "width = float(input(\"Enter width of the rectangle: \"))\n",
    "print(f\"Area of the rectangle: {math_operations.area_rectangle(length, width)}\")"
   ]
  },
  {
   "cell_type": "code",
   "execution_count": 14,
   "id": "339bd62c-f9fa-4a7f-b28b-76fad114fac8",
   "metadata": {},
   "outputs": [
    {
     "name": "stdin",
     "output_type": "stream",
     "text": [
      "Enter base of the triangle:  30\n",
      "Enter height of the triangle:  40\n"
     ]
    },
    {
     "name": "stdout",
     "output_type": "stream",
     "text": [
      "Area of the triangle: 600.0\n"
     ]
    }
   ],
   "source": [
    "# Calculate area of a triangle\n",
    "\n",
    "base = float(input(\"Enter base of the triangle: \"))\n",
    "height = float(input(\"Enter height of the triangle: \"))\n",
    "print(f\"Area of the triangle: {math_operations.area_triangle(base, height)}\")"
   ]
  },
  {
   "cell_type": "code",
   "execution_count": 16,
   "id": "41e883cd-8b05-405d-8b87-9b56d21dd24b",
   "metadata": {},
   "outputs": [],
   "source": [
    "import temperature_conversion\n"
   ]
  },
  {
   "cell_type": "code",
   "execution_count": 18,
   "id": "739fca4c-6a8a-49aa-9353-9c40681305e0",
   "metadata": {},
   "outputs": [
    {
     "name": "stdin",
     "output_type": "stream",
     "text": [
      "Enter temperature in Celsius:  90\n"
     ]
    },
    {
     "name": "stdout",
     "output_type": "stream",
     "text": [
      "90.0°C in Fahrenheit is: 194.0°F\n"
     ]
    }
   ],
   "source": [
    "# Convert Celsius to Fahrenheit\n",
    "\n",
    "\n",
    "celsius = float(input(\"Enter temperature in Celsius: \"))\n",
    "print(f\"{celsius}°C in Fahrenheit is: {temperature_conversion.celsius_to_fahrenheit(celsius)}°F\")\n"
   ]
  },
  {
   "cell_type": "code",
   "execution_count": 20,
   "id": "9e2793c0-e0dc-4a5f-8a6c-62bf24d4315c",
   "metadata": {},
   "outputs": [
    {
     "name": "stdin",
     "output_type": "stream",
     "text": [
      "Enter temperature in Fahrenheit:  101\n"
     ]
    },
    {
     "name": "stdout",
     "output_type": "stream",
     "text": [
      "101.0°F in Celsius is: 38.333333333333336°C\n"
     ]
    }
   ],
   "source": [
    "# Convert Fahrenheit to Celsius\n",
    "\n",
    "fahrenheit = float(input(\"Enter temperature in Fahrenheit: \"))\n",
    "print(f\"{fahrenheit}°F in Celsius is: {temperature_conversion.fahrenheit_to_celsius(fahrenheit)}°C\")"
   ]
  },
  {
   "cell_type": "code",
   "execution_count": null,
   "id": "878fe85f-9acd-466d-8c74-517d69c9aa75",
   "metadata": {},
   "outputs": [],
   "source": []
  }
 ],
 "metadata": {
  "kernelspec": {
   "display_name": "Python 3 (ipykernel)",
   "language": "python",
   "name": "python3"
  },
  "language_info": {
   "codemirror_mode": {
    "name": "ipython",
    "version": 3
   },
   "file_extension": ".py",
   "mimetype": "text/x-python",
   "name": "python",
   "nbconvert_exporter": "python",
   "pygments_lexer": "ipython3",
   "version": "3.12.4"
  }
 },
 "nbformat": 4,
 "nbformat_minor": 5
}
