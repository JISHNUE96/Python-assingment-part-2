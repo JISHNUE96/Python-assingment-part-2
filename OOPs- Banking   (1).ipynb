{
 "cells": [
  {
   "cell_type": "code",
   "execution_count": 1,
   "id": "0bc340b8-ecde-4ff6-b4a3-1b256ae66896",
   "metadata": {},
   "outputs": [],
   "source": [
    "class BankAccount:\n",
    "    def __init__(self, account_number, name, password, balance=0):\n",
    "        self.account_number = account_number\n",
    "        self.name = name\n",
    "        self.password = password\n",
    "        self.balance = balance\n",
    "        self.transaction_history = []\n",
    "\n",
    "    def deposit(self, amount):\n",
    "        if amount > 0:\n",
    "            self.balance += amount\n",
    "            self.transaction_history.append(f\"Deposited: ₹{amount}\")\n",
    "            print(f\"₹{amount} deposited successfully.\")\n",
    "        else:\n",
    "            print(\"Invalid deposit amount.\")\n",
    "\n",
    "    def withdraw(self, amount):\n",
    "        if amount <= 0:\n",
    "            print(\"Invalid withdrawal amount.\")\n",
    "        elif amount > self.balance:\n",
    "            print(\"Insufficient funds.\")\n",
    "        else:\n",
    "            self.balance -= amount\n",
    "            self.transaction_history.append(f\"Withdrew: ₹{amount}\")\n",
    "            print(f\"₹{amount} withdrawn successfully.\")\n",
    "\n",
    "    def check_balance(self):\n",
    "        print(f\"Current balance: ₹{self.balance}\")\n",
    "\n",
    "    def show_transaction_history(self):\n",
    "        print(\"Transaction History:\")\n",
    "        for transaction in self.transaction_history:\n",
    "            print(transaction)"
   ]
  },
  {
   "cell_type": "code",
   "execution_count": 3,
   "id": "ce4ded53-9fe9-458e-a743-cf01321bd1cb",
   "metadata": {},
   "outputs": [],
   "source": [
    "class BankSystem:\n",
    "    def __init__(self):\n",
    "        self.accounts = {}\n",
    "\n",
    "    def create_account(self, account_number, name, password):\n",
    "        if account_number in self.accounts:\n",
    "            print(\"Account already exists.\")\n",
    "        else:\n",
    "            new_account = BankAccount(account_number, name, password)\n",
    "            self.accounts[account_number] = new_account\n",
    "            print(f\"Account created successfully for {name}.\")\n",
    "\n",
    "    def login(self, account_number, password):\n",
    "        account = self.accounts.get(account_number)\n",
    "        if account and account.password == password:\n",
    "            print(f\"Welcome, {account.name}!\")\n",
    "            return account\n",
    "        else:\n",
    "            print(\"Invalid account number or password.\")\n",
    "            return None\n"
   ]
  },
  {
   "cell_type": "code",
   "execution_count": null,
   "id": "4351fb87-5c23-40fa-aefa-a9d461fa7e65",
   "metadata": {},
   "outputs": [
    {
     "name": "stdout",
     "output_type": "stream",
     "text": [
      "Welcome to the Banking System\n",
      "\n",
      "1. Create Account\n",
      "2. Login\n",
      "3. Exit\n"
     ]
    },
    {
     "name": "stdin",
     "output_type": "stream",
     "text": [
      "Choose an option:  1\n",
      "Enter account number:  9876543210\n",
      "Enter name:  jishnu e\n",
      "Set your password:  jishnukarat123\n"
     ]
    },
    {
     "name": "stdout",
     "output_type": "stream",
     "text": [
      "Account created successfully for jishnu e.\n",
      "\n",
      "1. Create Account\n",
      "2. Login\n",
      "3. Exit\n"
     ]
    }
   ],
   "source": [
    "def main():\n",
    "    bank = BankSystem()\n",
    "    print(\"Welcome to the Banking System\")\n",
    "\n",
    "    while True:\n",
    "        print(\"\\n1. Create Account\\n2. Login\\n3. Exit\")\n",
    "        choice = input(\"Choose an option: \")\n",
    "\n",
    "        if choice == '1':\n",
    "            account_number = input(\"Enter account number: \")\n",
    "            name = input(\"Enter name: \")\n",
    "            password = input(\"Set your password: \")\n",
    "            bank.create_account(account_number, name, password)\n",
    "\n",
    "        elif choice == '2':\n",
    "            account_number = input(\"Enter account number: \")\n",
    "            password = input(\"Enter password: \")\n",
    "            account = bank.login(account_number, password)\n",
    "\n",
    "            if account:\n",
    "                while True:\n",
    "                    print(\"\\n1. Deposit\\n2. Withdraw\\n3. Check Balance\\n4. Transaction History\\n5. Logout\")\n",
    "                    action = input(\"Choose an option: \")\n",
    "\n",
    "                    if action == '1':\n",
    "                        amount = float(input(\"Enter amount to deposit: \"))\n",
    "                        account.deposit(amount)\n",
    "\n",
    "                    elif action == '2':\n",
    "                        amount = float(input(\"Enter amount to withdraw: \"))\n",
    "                        account.withdraw(amount)\n",
    "\n",
    "                    elif action == '3':\n",
    "                        account.check_balance()\n",
    "\n",
    "                    elif action == '4':\n",
    "                        account.show_transaction_history()\n",
    "\n",
    "                    elif action == '5':\n",
    "                        print(\"Logged out successfully.\")\n",
    "                        break\n",
    "                    else:\n",
    "                        print(\"Invalid option. Please try again.\")\n",
    "\n",
    "        elif choice == '3':\n",
    "            print(\"Thank you for using the Banking System. Goodbye!\")\n",
    "            break\n",
    "        else:\n",
    "            print(\"Invalid option. Please try again.\")\n",
    "\n",
    "if __name__ == \"__main__\":\n",
    "    main()"
   ]
  },
  {
   "cell_type": "code",
   "execution_count": null,
   "id": "ce3260b0-3ecc-498d-b489-d60354262715",
   "metadata": {},
   "outputs": [],
   "source": []
  }
 ],
 "metadata": {
  "kernelspec": {
   "display_name": "Python 3 (ipykernel)",
   "language": "python",
   "name": "python3"
  },
  "language_info": {
   "codemirror_mode": {
    "name": "ipython",
    "version": 3
   },
   "file_extension": ".py",
   "mimetype": "text/x-python",
   "name": "python",
   "nbconvert_exporter": "python",
   "pygments_lexer": "ipython3",
   "version": "3.12.4"
  }
 },
 "nbformat": 4,
 "nbformat_minor": 5
}
